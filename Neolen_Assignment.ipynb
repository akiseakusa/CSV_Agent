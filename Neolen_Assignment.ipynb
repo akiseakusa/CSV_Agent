{
  "nbformat": 4,
  "nbformat_minor": 0,
  "metadata": {
    "colab": {
      "private_outputs": true,
      "provenance": []
    },
    "kernelspec": {
      "name": "python3",
      "display_name": "Python 3"
    },
    "language_info": {
      "name": "python"
    }
  },
  "cells": [
    {
      "cell_type": "code",
      "source": [
        "!pip install -q langchain openai panel"
      ],
      "metadata": {
        "id": "uHx45ke6I52M"
      },
      "execution_count": null,
      "outputs": []
    },
    {
      "cell_type": "code",
      "source": [
        "import os\n",
        "import pandas as pd\n",
        "import panel as pn\n",
        "from langchain.agents import create_pandas_dataframe_agent\n",
        "from langchain.agents import create_csv_agent\n",
        "from langchain.llms import OpenAI\n",
        "\n",
        "pn.extension('texteditor', template=\"bootstrap\", sizing_mode='stretch_width')\n",
        "file_input = pn.widgets.FileInput(width=300)\n",
        "\n",
        "openaikey = pn.widgets.PasswordInput(\n",
        "    value=\"\", placeholder=\"Enter your OpenAI API Key here...\", width=300\n",
        ")\n",
        "\n"
      ],
      "metadata": {
        "id": "oxVaLwRdxo7w"
      },
      "execution_count": null,
      "outputs": []
    },
    {
      "cell_type": "markdown",
      "source": [
        "Select CSV file"
      ],
      "metadata": {
        "id": "RVQuAvir6B-e"
      }
    },
    {
      "cell_type": "code",
      "source": [
        "file_input"
      ],
      "metadata": {
        "id": "u3HSwydG4fEM"
      },
      "execution_count": null,
      "outputs": []
    },
    {
      "cell_type": "markdown",
      "source": [
        "Enter your Openai API Key"
      ],
      "metadata": {
        "id": "KoSu7tIE6P7Z"
      }
    },
    {
      "cell_type": "code",
      "source": [
        "openaikey"
      ],
      "metadata": {
        "id": "LM-d8bgR5s1D"
      },
      "execution_count": null,
      "outputs": []
    },
    {
      "cell_type": "code",
      "source": [
        "os.environ[\"OPENAI_API_KEY\"] = openaikey"
      ],
      "metadata": {
        "id": "zZtNYM8T7CEH"
      },
      "execution_count": null,
      "outputs": []
    },
    {
      "cell_type": "markdown",
      "source": [
        "Creating CSV file agent"
      ],
      "metadata": {
        "id": "htTlkAQQ6aNM"
      }
    },
    {
      "cell_type": "code",
      "source": [
        "agent = create_csv_agent(OpenAI(temperature=0), \n",
        "                         file_input, \n",
        "                         verbose=True)"
      ],
      "metadata": {
        "id": "THzOWkLj5KYc"
      },
      "execution_count": null,
      "outputs": []
    },
    {
      "cell_type": "markdown",
      "source": [
        "Agent launch"
      ],
      "metadata": {
        "id": "XfdsldDT6pKh"
      }
    },
    {
      "cell_type": "code",
      "source": [
        "agent"
      ],
      "metadata": {
        "id": "4HqLnAsw5yba"
      },
      "execution_count": null,
      "outputs": []
    },
    {
      "cell_type": "markdown",
      "source": [
        "Run Query "
      ],
      "metadata": {
        "id": "1VrIBVYC63A9"
      }
    },
    {
      "cell_type": "code",
      "source": [
        "query = input('Enter your query')\n",
        "agent.run(query)"
      ],
      "metadata": {
        "id": "aoIFN3xM51Dw"
      },
      "execution_count": null,
      "outputs": []
    }
  ]
}